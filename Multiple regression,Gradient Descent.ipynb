{
 "cells": [
  {
   "cell_type": "markdown",
   "metadata": {
    "deletable": true,
    "editable": true
   },
   "source": [
    "So, in this notebook, I have written down the code for multiple regression with Gradient Descent minimisation. The first cell contains the entire code to create the appropriate data frame which is explained in detail in my other notebook 'Numpy,Pandas and CSV'. Do check that out first. What I also aim to do is give you the general overview of how to approach any ML problem. This includes:\n",
    "1. Loading up the dataset\n",
    "    -  Using pandas, numpy as described in the other notebook\n",
    "2. Plotting against the various independants\n",
    "3. Remodelling the dataset for faster and better fitting of the model"
   ]
  },
  {
   "cell_type": "code",
   "execution_count": 598,
   "metadata": {
    "collapsed": false,
    "deletable": true,
    "editable": true,
    "scrolled": true
   },
   "outputs": [],
   "source": [
    "import numpy as np\n",
    "from numpy import ones, zeros, arange\n",
    "import pandas as pd\n",
    "import matplotlib.pyplot as plt\n",
    "from sklearn.model_selection import train_test_split\n",
    "from sklearn.metrics import mean_absolute_error\n",
    "from sklearn.linear_model import LinearRegression\n",
    "\n",
    "L=pd.read_csv('machine.csv',header=None)\n",
    "\n",
    "L=L.drop(L.columns[[1]],axis=1)\n",
    "L=L[L[0]!='adviser']\n",
    "L=L[L[0]!='microdata']\n",
    "L=L[L[0]!='sratus']\n",
    "\n",
    "Y=L[0].unique()\n",
    "i=1\n",
    "for y in Y:\n",
    "    L[0].replace(y,i,inplace=True)\n",
    "    i+=1"
   ]
  },
  {
   "cell_type": "markdown",
   "metadata": {},
   "source": [
    "As good practice, we should always visualise the data we are dealing with in any ML problem. This helps us identify whether a feature affects a classification/regression or whether PCA etc. is needed. Matplotlib is a library that allows for visualisation of data. The syntax is shown in the first cell. We can create a scatter plot of the Machine Cycle Time and Estimated Relative performance. Various commands are displayed in the cell below. The name the functionality I guess ;). A very important thing to note is that we can keep adding plots and it will all show up when we use the show() command."
   ]
  },
  {
   "cell_type": "code",
   "execution_count": 599,
   "metadata": {
    "collapsed": false
   },
   "outputs": [
    {
     "data": {
      "image/png": "[encoded data removed]",
      "text/plain": [
       "<matplotlib.figure.Figure at 0x7f85931e2890>"
      ]
     },
     "metadata": {},
     "output_type": "display_data"
    }
   ],
   "source": [
    "plt.scatter(L[3],L[9])\n",
    "plt.xlabel('Machine Cycle Time (in seconds)')\n",
    "plt.ylabel('Estimated Relative performance')\n",
    "plt.title('Comparison between MCT and performance')\n",
    "plt.show()"
   ]
  },
  {
   "cell_type": "code",
   "execution_count": 600,
   "metadata": {
    "collapsed": false,
    "deletable": true,
    "editable": true,
    "scrolled": true
   },
   "outputs": [
    {
     "data": {
      "text/html": [
       "<div>\n",
       "<table border=\"1\" class=\"dataframe\">\n",
       "  <thead>\n",
       "    <tr style=\"text-align: right;\">\n",
       "      <th></th>\n",
       "      <th>0</th>\n",
       "      <th>2</th>\n",
       "      <th>3</th>\n",
       "      <th>4</th>\n",
       "      <th>5</th>\n",
       "      <th>6</th>\n",
       "      <th>7</th>\n",
       "      <th>8</th>\n",
       "      <th>9</th>\n",
       "    </tr>\n",
       "  </thead>\n",
       "  <tbody>\n",
       "    <tr>\n",
       "      <th>count</th>\n",
       "      <td>206.000000</td>\n",
       "      <td>206.000000</td>\n",
       "      <td>206.000000</td>\n",
       "      <td>206.000000</td>\n",
       "      <td>206.000000</td>\n",
       "      <td>206.000000</td>\n",
       "      <td>206.000000</td>\n",
       "      <td>206.000000</td>\n",
       "      <td>206.000000</td>\n",
       "    </tr>\n",
       "    <tr>\n",
       "      <th>mean</th>\n",
       "      <td>15.597087</td>\n",
       "      <td>204.849515</td>\n",
       "      <td>2896.310680</td>\n",
       "      <td>11880.563107</td>\n",
       "      <td>24.330097</td>\n",
       "      <td>4.640777</td>\n",
       "      <td>17.223301</td>\n",
       "      <td>105.800971</td>\n",
       "      <td>99.451456</td>\n",
       "    </tr>\n",
       "    <tr>\n",
       "      <th>std</th>\n",
       "      <td>7.055030</td>\n",
       "      <td>262.015754</td>\n",
       "      <td>3898.714252</td>\n",
       "      <td>11789.268990</td>\n",
       "      <td>37.523947</td>\n",
       "      <td>6.813694</td>\n",
       "      <td>23.813680</td>\n",
       "      <td>161.745100</td>\n",
       "      <td>155.607559</td>\n",
       "    </tr>\n",
       "    <tr>\n",
       "      <th>min</th>\n",
       "      <td>1.000000</td>\n",
       "      <td>17.000000</td>\n",
       "      <td>64.000000</td>\n",
       "      <td>64.000000</td>\n",
       "      <td>0.000000</td>\n",
       "      <td>0.000000</td>\n",
       "      <td>0.000000</td>\n",
       "      <td>6.000000</td>\n",
       "      <td>15.000000</td>\n",
       "    </tr>\n",
       "    <tr>\n",
       "      <th>25%</th>\n",
       "      <td>10.000000</td>\n",
       "      <td>50.000000</td>\n",
       "      <td>768.000000</td>\n",
       "      <td>4000.000000</td>\n",
       "      <td>0.000000</td>\n",
       "      <td>1.000000</td>\n",
       "      <td>5.000000</td>\n",
       "      <td>27.000000</td>\n",
       "      <td>28.000000</td>\n",
       "    </tr>\n",
       "    <tr>\n",
       "      <th>50%</th>\n",
       "      <td>17.000000</td>\n",
       "      <td>110.000000</td>\n",
       "      <td>2000.000000</td>\n",
       "      <td>8000.000000</td>\n",
       "      <td>8.000000</td>\n",
       "      <td>2.000000</td>\n",
       "      <td>8.000000</td>\n",
       "      <td>49.500000</td>\n",
       "      <td>45.500000</td>\n",
       "    </tr>\n",
       "    <tr>\n",
       "      <th>75%</th>\n",
       "      <td>20.000000</td>\n",
       "      <td>225.000000</td>\n",
       "      <td>4000.000000</td>\n",
       "      <td>16000.000000</td>\n",
       "      <td>32.000000</td>\n",
       "      <td>6.000000</td>\n",
       "      <td>24.000000</td>\n",
       "      <td>112.500000</td>\n",
       "      <td>100.500000</td>\n",
       "    </tr>\n",
       "    <tr>\n",
       "      <th>max</th>\n",
       "      <td>27.000000</td>\n",
       "      <td>1500.000000</td>\n",
       "      <td>32000.000000</td>\n",
       "      <td>64000.000000</td>\n",
       "      <td>256.000000</td>\n",
       "      <td>52.000000</td>\n",
       "      <td>176.000000</td>\n",
       "      <td>1150.000000</td>\n",
       "      <td>1238.000000</td>\n",
       "    </tr>\n",
       "  </tbody>\n",
       "</table>\n",
       "</div>"
      ],
      "text/plain": [
       "                0            2             3             4           5  \\\n",
       "count  206.000000   206.000000    206.000000    206.000000  206.000000   \n",
       "mean    15.597087   204.849515   2896.310680  11880.563107   24.330097   \n",
       "std      7.055030   262.015754   3898.714252  11789.268990   37.523947   \n",
       "min      1.000000    17.000000     64.000000     64.000000    0.000000   \n",
       "25%     10.000000    50.000000    768.000000   4000.000000    0.000000   \n",
       "50%     17.000000   110.000000   2000.000000   8000.000000    8.000000   \n",
       "75%     20.000000   225.000000   4000.000000  16000.000000   32.000000   \n",
       "max     27.000000  1500.000000  32000.000000  64000.000000  256.000000   \n",
       "\n",
       "                6           7            8            9  \n",
       "count  206.000000  206.000000   206.000000   206.000000  \n",
       "mean     4.640777   17.223301   105.800971    99.451456  \n",
       "std      6.813694   23.813680   161.745100   155.607559  \n",
       "min      0.000000    0.000000     6.000000    15.000000  \n",
       "25%      1.000000    5.000000    27.000000    28.000000  \n",
       "50%      2.000000    8.000000    49.500000    45.500000  \n",
       "75%      6.000000   24.000000   112.500000   100.500000  \n",
       "max     52.000000  176.000000  1150.000000  1238.000000  "
      ]
     },
     "execution_count": 600,
     "metadata": {},
     "output_type": "execute_result"
    }
   ],
   "source": [
    "L.describe()"
   ]
  },
  {
   "cell_type": "markdown",
   "metadata": {
    "deletable": true,
    "editable": true
   },
   "source": [
    " Right off the back, we notice that the features are differing too much in magnitude. This might cause a hinderance when converging the gradient descent. Hence we want to scale these features so they are closer to each other. Hence, one way to do this is to subtract by the mean and divide it by either the range or the standard deviation. The process is termed as 'Normalisation'. Refer to Andrew Ng coursera video for this"
   ]
  },
  {
   "cell_type": "markdown",
   "metadata": {},
   "source": [
    "So, in the below normalisation, I also store the mean and standard deviation of every column since when we predict, we will input the unaltered values and hence, have to normalise it with this data."
   ]
  },
  {
   "cell_type": "code",
   "execution_count": 601,
   "metadata": {
    "collapsed": false,
    "deletable": true,
    "editable": true,
    "scrolled": true
   },
   "outputs": [
    {
     "data": {
      "text/html": [
       "<div>\n",
       "<table border=\"1\" class=\"dataframe\">\n",
       "  <thead>\n",
       "    <tr style=\"text-align: right;\">\n",
       "      <th></th>\n",
       "      <th>0</th>\n",
       "      <th>2</th>\n",
       "      <th>3</th>\n",
       "      <th>4</th>\n",
       "      <th>5</th>\n",
       "      <th>6</th>\n",
       "      <th>7</th>\n",
       "      <th>8</th>\n",
       "      <th>9</th>\n",
       "    </tr>\n",
       "  </thead>\n",
       "  <tbody>\n",
       "    <tr>\n",
       "      <th>1</th>\n",
       "      <td>1</td>\n",
       "      <td>-0.671141</td>\n",
       "      <td>1.309070</td>\n",
       "      <td>1.706589</td>\n",
       "      <td>0.204400</td>\n",
       "      <td>0.493011</td>\n",
       "      <td>0.620513</td>\n",
       "      <td>1.008989</td>\n",
       "      <td>0.986768</td>\n",
       "    </tr>\n",
       "    <tr>\n",
       "      <th>2</th>\n",
       "      <td>1</td>\n",
       "      <td>-0.671141</td>\n",
       "      <td>1.309070</td>\n",
       "      <td>1.706589</td>\n",
       "      <td>0.204400</td>\n",
       "      <td>0.493011</td>\n",
       "      <td>0.620513</td>\n",
       "      <td>0.706043</td>\n",
       "      <td>0.986768</td>\n",
       "    </tr>\n",
       "    <tr>\n",
       "      <th>3</th>\n",
       "      <td>1</td>\n",
       "      <td>-0.671141</td>\n",
       "      <td>1.309070</td>\n",
       "      <td>1.706589</td>\n",
       "      <td>0.204400</td>\n",
       "      <td>0.493011</td>\n",
       "      <td>0.620513</td>\n",
       "      <td>0.409280</td>\n",
       "      <td>0.986768</td>\n",
       "    </tr>\n",
       "    <tr>\n",
       "      <th>4</th>\n",
       "      <td>1</td>\n",
       "      <td>-0.671141</td>\n",
       "      <td>1.309070</td>\n",
       "      <td>0.349423</td>\n",
       "      <td>0.204400</td>\n",
       "      <td>0.493011</td>\n",
       "      <td>-0.051370</td>\n",
       "      <td>0.161977</td>\n",
       "      <td>0.209171</td>\n",
       "    </tr>\n",
       "    <tr>\n",
       "      <th>5</th>\n",
       "      <td>1</td>\n",
       "      <td>-0.682591</td>\n",
       "      <td>1.309070</td>\n",
       "      <td>1.706589</td>\n",
       "      <td>1.057189</td>\n",
       "      <td>0.493011</td>\n",
       "      <td>0.620513</td>\n",
       "      <td>1.311935</td>\n",
       "      <td>1.224546</td>\n",
       "    </tr>\n",
       "    <tr>\n",
       "      <th>6</th>\n",
       "      <td>1</td>\n",
       "      <td>-0.694040</td>\n",
       "      <td>3.361028</td>\n",
       "      <td>1.706589</td>\n",
       "      <td>1.057189</td>\n",
       "      <td>1.667117</td>\n",
       "      <td>0.620513</td>\n",
       "      <td>1.614881</td>\n",
       "      <td>1.809350</td>\n",
       "    </tr>\n",
       "    <tr>\n",
       "      <th>7</th>\n",
       "      <td>1</td>\n",
       "      <td>-0.694040</td>\n",
       "      <td>3.361028</td>\n",
       "      <td>1.706589</td>\n",
       "      <td>1.057189</td>\n",
       "      <td>1.667117</td>\n",
       "      <td>0.620513</td>\n",
       "      <td>2.369154</td>\n",
       "      <td>1.809350</td>\n",
       "    </tr>\n",
       "    <tr>\n",
       "      <th>8</th>\n",
       "      <td>1</td>\n",
       "      <td>-0.694040</td>\n",
       "      <td>3.361028</td>\n",
       "      <td>4.420922</td>\n",
       "      <td>1.057189</td>\n",
       "      <td>1.667117</td>\n",
       "      <td>0.620513</td>\n",
       "      <td>3.277991</td>\n",
       "      <td>4.174274</td>\n",
       "    </tr>\n",
       "    <tr>\n",
       "      <th>9</th>\n",
       "      <td>1</td>\n",
       "      <td>-0.694040</td>\n",
       "      <td>7.464945</td>\n",
       "      <td>4.420922</td>\n",
       "      <td>2.762766</td>\n",
       "      <td>4.015329</td>\n",
       "      <td>1.964278</td>\n",
       "      <td>6.418736</td>\n",
       "      <td>7.316795</td>\n",
       "    </tr>\n",
       "    <tr>\n",
       "      <th>10</th>\n",
       "      <td>2</td>\n",
       "      <td>0.744804</td>\n",
       "      <td>-0.486394</td>\n",
       "      <td>-0.753275</td>\n",
       "      <td>-0.648389</td>\n",
       "      <td>-0.534332</td>\n",
       "      <td>-0.639267</td>\n",
       "      <td>-0.419184</td>\n",
       "      <td>-0.491309</td>\n",
       "    </tr>\n",
       "    <tr>\n",
       "      <th>11</th>\n",
       "      <td>2</td>\n",
       "      <td>0.744804</td>\n",
       "      <td>-0.611563</td>\n",
       "      <td>-0.710864</td>\n",
       "      <td>-0.541790</td>\n",
       "      <td>-0.534332</td>\n",
       "      <td>-0.471296</td>\n",
       "      <td>-0.406819</td>\n",
       "      <td>-0.484883</td>\n",
       "    </tr>\n",
       "    <tr>\n",
       "      <th>12</th>\n",
       "      <td>3</td>\n",
       "      <td>-0.552828</td>\n",
       "      <td>-0.229899</td>\n",
       "      <td>-0.329161</td>\n",
       "      <td>1.083839</td>\n",
       "      <td>-0.534332</td>\n",
       "      <td>-0.387311</td>\n",
       "      <td>-0.085325</td>\n",
       "      <td>-0.189268</td>\n",
       "    </tr>\n",
       "    <tr>\n",
       "      <th>13</th>\n",
       "      <td>3</td>\n",
       "      <td>-0.590993</td>\n",
       "      <td>0.283091</td>\n",
       "      <td>0.349423</td>\n",
       "      <td>1.083839</td>\n",
       "      <td>-0.534332</td>\n",
       "      <td>-0.387311</td>\n",
       "      <td>0.199073</td>\n",
       "      <td>0.112774</td>\n",
       "    </tr>\n",
       "    <tr>\n",
       "      <th>14</th>\n",
       "      <td>4</td>\n",
       "      <td>0.553976</td>\n",
       "      <td>-0.726473</td>\n",
       "      <td>-1.002315</td>\n",
       "      <td>-0.648389</td>\n",
       "      <td>-0.534332</td>\n",
       "      <td>-0.555282</td>\n",
       "      <td>-0.592296</td>\n",
       "      <td>-0.542721</td>\n",
       "    </tr>\n",
       "    <tr>\n",
       "      <th>15</th>\n",
       "      <td>4</td>\n",
       "      <td>-0.018508</td>\n",
       "      <td>-0.611563</td>\n",
       "      <td>0.349423</td>\n",
       "      <td>-0.648389</td>\n",
       "      <td>-0.094042</td>\n",
       "      <td>0.620513</td>\n",
       "      <td>-0.437732</td>\n",
       "      <td>-0.227826</td>\n",
       "    </tr>\n",
       "    <tr>\n",
       "      <th>16</th>\n",
       "      <td>5</td>\n",
       "      <td>-0.144455</td>\n",
       "      <td>-0.608485</td>\n",
       "      <td>-0.838098</td>\n",
       "      <td>-0.435191</td>\n",
       "      <td>-0.094042</td>\n",
       "      <td>-0.093362</td>\n",
       "      <td>-0.536653</td>\n",
       "      <td>-0.491309</td>\n",
       "    </tr>\n",
       "    <tr>\n",
       "      <th>17</th>\n",
       "      <td>5</td>\n",
       "      <td>-0.236053</td>\n",
       "      <td>-0.611563</td>\n",
       "      <td>-0.583629</td>\n",
       "      <td>-0.648389</td>\n",
       "      <td>0.346247</td>\n",
       "      <td>0.620513</td>\n",
       "      <td>-0.481010</td>\n",
       "      <td>-0.452751</td>\n",
       "    </tr>\n",
       "    <tr>\n",
       "      <th>18</th>\n",
       "      <td>5</td>\n",
       "      <td>-0.236053</td>\n",
       "      <td>-0.486394</td>\n",
       "      <td>-0.838098</td>\n",
       "      <td>-0.648389</td>\n",
       "      <td>0.052721</td>\n",
       "      <td>-0.051370</td>\n",
       "      <td>-0.462462</td>\n",
       "      <td>-0.497736</td>\n",
       "    </tr>\n",
       "    <tr>\n",
       "      <th>19</th>\n",
       "      <td>5</td>\n",
       "      <td>-0.361999</td>\n",
       "      <td>0.539585</td>\n",
       "      <td>-0.583629</td>\n",
       "      <td>3.135862</td>\n",
       "      <td>0.493011</td>\n",
       "      <td>1.964278</td>\n",
       "      <td>0.087786</td>\n",
       "      <td>0.157759</td>\n",
       "    </tr>\n",
       "    <tr>\n",
       "      <th>20</th>\n",
       "      <td>5</td>\n",
       "      <td>-0.236053</td>\n",
       "      <td>-0.358146</td>\n",
       "      <td>-0.473360</td>\n",
       "      <td>-0.648389</td>\n",
       "      <td>0.052721</td>\n",
       "      <td>0.620513</td>\n",
       "      <td>-0.468645</td>\n",
       "      <td>-0.414192</td>\n",
       "    </tr>\n",
       "  </tbody>\n",
       "</table>\n",
       "</div>"
      ],
      "text/plain": [
       "    0         2         3         4         5         6         7         8  \\\n",
       "1   1 -0.671141  1.309070  1.706589  0.204400  0.493011  0.620513  1.008989   \n",
       "2   1 -0.671141  1.309070  1.706589  0.204400  0.493011  0.620513  0.706043   \n",
       "3   1 -0.671141  1.309070  1.706589  0.204400  0.493011  0.620513  0.409280   \n",
       "4   1 -0.671141  1.309070  0.349423  0.204400  0.493011 -0.051370  0.161977   \n",
       "5   1 -0.682591  1.309070  1.706589  1.057189  0.493011  0.620513  1.311935   \n",
       "6   1 -0.694040  3.361028  1.706589  1.057189  1.667117  0.620513  1.614881   \n",
       "7   1 -0.694040  3.361028  1.706589  1.057189  1.667117  0.620513  2.369154   \n",
       "8   1 -0.694040  3.361028  4.420922  1.057189  1.667117  0.620513  3.277991   \n",
       "9   1 -0.694040  7.464945  4.420922  2.762766  4.015329  1.964278  6.418736   \n",
       "10  2  0.744804 -0.486394 -0.753275 -0.648389 -0.534332 -0.639267 -0.419184   \n",
       "11  2  0.744804 -0.611563 -0.710864 -0.541790 -0.534332 -0.471296 -0.406819   \n",
       "12  3 -0.552828 -0.229899 -0.329161  1.083839 -0.534332 -0.387311 -0.085325   \n",
       "13  3 -0.590993  0.283091  0.349423  1.083839 -0.534332 -0.387311  0.199073   \n",
       "14  4  0.553976 -0.726473 -1.002315 -0.648389 -0.534332 -0.555282 -0.592296   \n",
       "15  4 -0.018508 -0.611563  0.349423 -0.648389 -0.094042  0.620513 -0.437732   \n",
       "16  5 -0.144455 -0.608485 -0.838098 -0.435191 -0.094042 -0.093362 -0.536653   \n",
       "17  5 -0.236053 -0.611563 -0.583629 -0.648389  0.346247  0.620513 -0.481010   \n",
       "18  5 -0.236053 -0.486394 -0.838098 -0.648389  0.052721 -0.051370 -0.462462   \n",
       "19  5 -0.361999  0.539585 -0.583629  3.135862  0.493011  1.964278  0.087786   \n",
       "20  5 -0.236053 -0.358146 -0.473360 -0.648389  0.052721  0.620513 -0.468645   \n",
       "\n",
       "           9  \n",
       "1   0.986768  \n",
       "2   0.986768  \n",
       "3   0.986768  \n",
       "4   0.209171  \n",
       "5   1.224546  \n",
       "6   1.809350  \n",
       "7   1.809350  \n",
       "8   4.174274  \n",
       "9   7.316795  \n",
       "10 -0.491309  \n",
       "11 -0.484883  \n",
       "12 -0.189268  \n",
       "13  0.112774  \n",
       "14 -0.542721  \n",
       "15 -0.227826  \n",
       "16 -0.491309  \n",
       "17 -0.452751  \n",
       "18 -0.497736  \n",
       "19  0.157759  \n",
       "20 -0.414192  "
      ]
     },
     "execution_count": 601,
     "metadata": {},
     "output_type": "execute_result"
    }
   ],
   "source": [
    "def normalise(X):\n",
    "    mean=X.mean()\n",
    "    sd=X.std()\n",
    "    \n",
    "    for x in X:\n",
    "        rep=(x-mean)/sd\n",
    "        X.replace(x,rep,inplace=True)\n",
    "    return mean,sd\n",
    "\n",
    "mean_r=[]\n",
    "std_r=[]\n",
    "        \n",
    "for i in range(0,10):\n",
    "    if(i!=0 and i!=1):\n",
    "        m,s=normalise(L[i])\n",
    "        mean_r.append(m)\n",
    "        std_r.append(s)\n",
    "L.head(20)"
   ]
  },
  {
   "cell_type": "markdown",
   "metadata": {},
   "source": [
    "Much better. All the columns are in range of each other."
   ]
  },
  {
   "cell_type": "markdown",
   "metadata": {
    "collapsed": false,
    "deletable": true,
    "editable": true
   },
   "source": [
    "Now, we have processed the data. For simplicity sake, I have also not considered the company type since if you draw the scatter plot of the target with X[0], you will notice that there is no good straight line fit to it and it produces too much variance. Notice below the command **as_matrix** converts our data frame to a numpy N dimensional array with outermost elements being the rows of the data frame. From there, I have split the data into X independants and y dependant."
   ]
  },
  {
   "cell_type": "code",
   "execution_count": 602,
   "metadata": {
    "collapsed": false,
    "deletable": true,
    "editable": true,
    "scrolled": true
   },
   "outputs": [
    {
     "data": {
      "text/plain": [
       "array([[-0.671141  ,  1.30906986,  1.70658901, ...,  0.49301059,\n",
       "         0.62051304,  1.00898902],\n",
       "       [-0.671141  ,  1.30906986,  1.70658901, ...,  0.49301059,\n",
       "         0.62051304,  0.70604321],\n",
       "       [-0.671141  ,  1.30906986,  1.70658901, ...,  0.49301059,\n",
       "         0.62051304,  0.40927997],\n",
       "       ..., \n",
       "       [-0.40779805, -0.48639386, -0.32916062, ..., -0.38756902,\n",
       "        -0.38731103, -0.36972354],\n",
       "       [ 1.05012955, -0.61156333, -0.32916062, ..., -0.68109555,\n",
       "        -0.72325239, -0.23988962],\n",
       "       [ 1.05012955, -0.48639386, -0.66845223, ..., -0.68109555,\n",
       "        -0.72325239, -0.37590611]])"
      ]
     },
     "execution_count": 602,
     "metadata": {},
     "output_type": "execute_result"
    }
   ],
   "source": [
    "mat=L.as_matrix()\n",
    "X=mat[:,1:8]\n",
    "y=mat[:,8]\n",
    "X"
   ]
  },
  {
   "cell_type": "markdown",
   "metadata": {},
   "source": [
    "However, we aren't done just yet. If you remember, the multiple regression equation has a bias term. A term that has weight with an input of 1. Hence, we must add that as well to the independants list"
   ]
  },
  {
   "cell_type": "code",
   "execution_count": 603,
   "metadata": {
    "collapsed": false
   },
   "outputs": [
    {
     "data": {
      "text/plain": [
       "array([[ 1.        , -0.671141  ,  1.30906986, ...,  0.49301059,\n",
       "         0.62051304,  1.00898902],\n",
       "       [ 1.        , -0.671141  ,  1.30906986, ...,  0.49301059,\n",
       "         0.62051304,  0.70604321],\n",
       "       [ 1.        , -0.671141  ,  1.30906986, ...,  0.49301059,\n",
       "         0.62051304,  0.40927997],\n",
       "       ..., \n",
       "       [ 1.        , -0.40779805, -0.48639386, ..., -0.38756902,\n",
       "        -0.38731103, -0.36972354],\n",
       "       [ 1.        ,  1.05012955, -0.61156333, ..., -0.68109555,\n",
       "        -0.72325239, -0.23988962],\n",
       "       [ 1.        ,  1.05012955, -0.48639386, ..., -0.68109555,\n",
       "        -0.72325239, -0.37590611]])"
      ]
     },
     "execution_count": 603,
     "metadata": {},
     "output_type": "execute_result"
    }
   ],
   "source": [
    "m=y.size\n",
    "it=ones(shape=(m,8))\n",
    "it[:,1:8]=X\n",
    "it"
   ]
  },
  {
   "cell_type": "markdown",
   "metadata": {},
   "source": [
    "Awesome. So our input X is ready and so is y. We can begin writing our gradient descent code. Refer to Andrew Ng's video on the equations. This is split into 2 parts:\n",
    "1. The cost function\n",
    "    -- We first write the function to compute the cost function with parameters as the theta matrix\n",
    "2. The gradient descent\n",
    "    -- The gradient descent is run on the cost function and theta is updated from here and this is continued for a set number of iterations."
   ]
  },
  {
   "cell_type": "code",
   "execution_count": 604,
   "metadata": {
    "collapsed": false
   },
   "outputs": [],
   "source": [
    "theta=zeros(shape=(8,1))\n",
    "iters=1500\n",
    "alpha=0.01"
   ]
  },
  {
   "cell_type": "code",
   "execution_count": 605,
   "metadata": {
    "collapsed": true
   },
   "outputs": [],
   "source": [
    "def compute_cost(X,y,theta):\n",
    "    predictions=X.dot(theta)\n",
    "    sqErrors=predictions-y\n",
    "    J=(1.0/(2*m))*sqErrors.T.dot(sqErrors)\n",
    "    \n",
    "    return J"
   ]
  },
  {
   "cell_type": "markdown",
   "metadata": {},
   "source": [
    "Above, notice that multiplying every theta with its corresponding x value can be done by just taking the dot product, also known as Scalar outer product. The squared error, can also be expressed as the outer product between the error matrix and its transpose. Note also that J and predictions will be numbers. Again, Andrew Ng explains this much better."
   ]
  },
  {
   "cell_type": "code",
   "execution_count": 606,
   "metadata": {
    "collapsed": true
   },
   "outputs": [],
   "source": [
    "def gradient_descent(X,y,theta,alpha,iters):\n",
    "    J_history=zeros(shape=(iters,1))\n",
    "    \n",
    "    for i in range(iters):\n",
    "        predictions=X.dot(theta)\n",
    "        theta_size=theta.size\n",
    "        \n",
    "        for it in range(theta_size):\n",
    "            temp=X[:,it]\n",
    "            temp.shape=(m,1)\n",
    "            \n",
    "            errors_x1=(predictions-y)*temp\n",
    "            theta[it][0]=theta[it][0]-alpha*(1.0/m)*errors_x1.sum()\n",
    "        J_history[i, 0]=compute_cost(X,y,theta)\n",
    "    return theta, J_history"
   ]
  },
  {
   "cell_type": "markdown",
   "metadata": {},
   "source": [
    "The above code cannot be explained simply but read it once while looking at the formula and you will get the meaning of it.\n",
    "Now that both functions have been written, all we have to do is call the function for our dataset. So, lets do that"
   ]
  },
  {
   "cell_type": "code",
   "execution_count": 607,
   "metadata": {
    "collapsed": false
   },
   "outputs": [
    {
     "name": "stdout",
     "output_type": "stream",
     "text": [
      "[[ -4.88390342e-17]\n",
      " [  7.09198075e-02]\n",
      " [  1.77180956e-01]\n",
      " [  2.78126424e-01]\n",
      " [  3.71114602e-02]\n",
      " [ -7.43748097e-03]\n",
      " [  8.20852919e-02]\n",
      " [  5.23279884e-01]] [[ 0.46096208]\n",
      " [ 0.42737845]\n",
      " [ 0.39656888]\n",
      " ..., \n",
      " [ 0.02057334]\n",
      " [ 0.02057266]\n",
      " [ 0.02057198]]\n"
     ]
    }
   ],
   "source": [
    "y.shape=(m,1)\n",
    "theta,J_history=gradient_descent(it,y,theta,alpha,iters)\n",
    "print theta,J_history"
   ]
  },
  {
   "cell_type": "markdown",
   "metadata": {},
   "source": [
    "Perfect. Our algorithm has given some parameters and observing J_history, we can see that it is decreasing as the iterations increase. However, let us visualise a few more things."
   ]
  },
  {
   "cell_type": "code",
   "execution_count": 608,
   "metadata": {
    "collapsed": false
   },
   "outputs": [
    {
     "data": {
      "image/png": "[encoded data removed]",
      "text/plain": [
       "<matplotlib.figure.Figure at 0x7f8589ce3190>"
      ]
     },
     "metadata": {},
     "output_type": "display_data"
    }
   ],
   "source": [
    "plt.plot(arange(iters),J_history)\n",
    "plt.show()"
   ]
  },
  {
   "cell_type": "markdown",
   "metadata": {},
   "source": [
    "This looks like a proper gradient descent algorithm. Running more iterations will further reduce the cost function"
   ]
  },
  {
   "cell_type": "markdown",
   "metadata": {},
   "source": [
    "Okay, so all this is well and good. But we are missing an important aspect: how accurate or reliable is our model? We can't use a new input since we won't know whether it is giving the right output. But what we can do is check against the values we have. But we can;t use a value that is already in the training set. This is due to overfitting. Sometimes, a trained model will end up fitting the training values rather than fir a general pattern. The end result is that it will predict properly only within the training set accurately but fail sometimes on external examples. We thus, split our X and y into training and testing sets and use the test set to predict accuracy.\n",
    "\n",
    "Scikit learn comes with a split function that allows us to decide the ratio of data between the training and testing sets.\n"
   ]
  },
  {
   "cell_type": "code",
   "execution_count": 609,
   "metadata": {
    "collapsed": false
   },
   "outputs": [
    {
     "data": {
      "image/png": "[encoded data removed]",
      "text/plain": [
       "<matplotlib.figure.Figure at 0x7f85931db510>"
      ]
     },
     "metadata": {},
     "output_type": "display_data"
    }
   ],
   "source": [
    "X_train,X_test,y_train,y_test=train_test_split(it,y,test_size=0.2)\n",
    "\n",
    "m=y_train.size\n",
    "theta,J_history=gradient_descent(X_train,y_train,theta,alpha,iters)\n",
    "#print theta,J_history\n",
    "plt.plot(arange(iters),J_history)\n",
    "plt.show()"
   ]
  },
  {
   "cell_type": "code",
   "execution_count": 610,
   "metadata": {
    "collapsed": false
   },
   "outputs": [
    {
     "data": {
      "text/plain": [
       "0.16650838623014264"
      ]
     },
     "execution_count": 610,
     "metadata": {},
     "output_type": "execute_result"
    }
   ],
   "source": [
    "y_predict=X_test.dot(theta)\n",
    "errors=y_predict-y_test\n",
    "ab=np.absolute(errors)\n",
    "mean_error=(ab.sum()/errors.size)\n",
    "mean_error"
   ]
  },
  {
   "cell_type": "markdown",
   "metadata": {},
   "source": [
    "So, our model has a mean squared error of about 3% and we can assume that our algorithm is about 97% accurate. Note that scikit learn comes with many accuracy score methods but cannot be used here since we haven't explicitly used the regression model present there. As a next step, let us predict what would be the accuracy of fitting this data into the inbuilt model"
   ]
  },
  {
   "cell_type": "code",
   "execution_count": 611,
   "metadata": {
    "collapsed": false
   },
   "outputs": [
    {
     "data": {
      "text/plain": [
       "0.13136647749376434"
      ]
     },
     "execution_count": 611,
     "metadata": {},
     "output_type": "execute_result"
    }
   ],
   "source": [
    "X_train,X_test,y_train,y_test=train_test_split(X,y,test_size=0.2)\n",
    "\n",
    "model=LinearRegression()\n",
    "model.fit(X_train,y_train)\n",
    "y_pred=model.predict(X_test)\n",
    "err=mean_absolute_error(y_test,y_pred)\n",
    "err"
   ]
  },
  {
   "cell_type": "markdown",
   "metadata": {},
   "source": [
    "So, we can see more or less, the mean absolute errors is close by and in some cases, the gradient descent code written can have better accuracy. Increasing the number of iterations beyond 10000 will yield better resukts but always be careful as too many iterations result in over fitting."
   ]
  },
  {
   "cell_type": "markdown",
   "metadata": {},
   "source": [
    "If you've made it this far, congrats on writing your very own Gradient Descent algorithm. Although scikit learn has its own model which we can implement in 4 lines, understanding how gradient descent works will form the basis on how Stochastic Gradient descent, addition of momentum etc. affects the model. I hope you understood this notebook. :)"
   ]
  }
 ],
 "metadata": {
  "kernelspec": {
   "display_name": "Python 2",
   "language": "python",
   "name": "python2"
  },
  "language_info": {
   "codemirror_mode": {
    "name": "ipython",
    "version": 2
   },
   "file_extension": ".py",
   "mimetype": "text/x-python",
   "name": "python",
   "nbconvert_exporter": "python",
   "pygments_lexer": "ipython2",
   "version": "2.7.12+"
  }
 },
 "nbformat": 4,
 "nbformat_minor": 2
}
